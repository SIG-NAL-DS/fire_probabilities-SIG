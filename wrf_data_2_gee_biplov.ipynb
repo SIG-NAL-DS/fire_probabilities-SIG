{
  "nbformat": 4,
  "nbformat_minor": 0,
  "metadata": {
    "colab": {
      "provenance": []
    },
    "kernelspec": {
      "name": "python3",
      "display_name": "Python 3"
    },
    "language_info": {
      "name": "python"
    }
  },
  "cells": [
    {
      "cell_type": "code",
      "execution_count": null,
      "metadata": {
        "colab": {
          "base_uri": "https://localhost:8080/"
        },
        "id": "8TsapGOU16OY",
        "outputId": "1091cf76-3f55-433d-e15b-344dbe989e13"
      },
      "outputs": [
        {
          "output_type": "stream",
          "name": "stdout",
          "text": [
            "Requirement already satisfied: xarray in /usr/local/lib/python3.10/dist-packages (2024.9.0)\n",
            "Collecting boto3\n",
            "  Downloading boto3-1.35.44-py3-none-any.whl.metadata (6.7 kB)\n",
            "Collecting rasterio\n",
            "  Downloading rasterio-1.4.1-cp310-cp310-manylinux_2_17_x86_64.manylinux2014_x86_64.whl.metadata (9.1 kB)\n",
            "Requirement already satisfied: numpy>=1.24 in /usr/local/lib/python3.10/dist-packages (from xarray) (1.26.4)\n",
            "Requirement already satisfied: packaging>=23.1 in /usr/local/lib/python3.10/dist-packages (from xarray) (24.1)\n",
            "Requirement already satisfied: pandas>=2.1 in /usr/local/lib/python3.10/dist-packages (from xarray) (2.2.2)\n",
            "Collecting botocore<1.36.0,>=1.35.44 (from boto3)\n",
            "  Downloading botocore-1.35.44-py3-none-any.whl.metadata (5.7 kB)\n",
            "Collecting jmespath<2.0.0,>=0.7.1 (from boto3)\n",
            "  Downloading jmespath-1.0.1-py3-none-any.whl.metadata (7.6 kB)\n",
            "Collecting s3transfer<0.11.0,>=0.10.0 (from boto3)\n",
            "  Downloading s3transfer-0.10.3-py3-none-any.whl.metadata (1.7 kB)\n",
            "Collecting affine (from rasterio)\n",
            "  Downloading affine-2.4.0-py3-none-any.whl.metadata (4.0 kB)\n",
            "Requirement already satisfied: attrs in /usr/local/lib/python3.10/dist-packages (from rasterio) (24.2.0)\n",
            "Requirement already satisfied: certifi in /usr/local/lib/python3.10/dist-packages (from rasterio) (2024.8.30)\n",
            "Requirement already satisfied: click>=4.0 in /usr/local/lib/python3.10/dist-packages (from rasterio) (8.1.7)\n",
            "Collecting cligj>=0.5 (from rasterio)\n",
            "  Downloading cligj-0.7.2-py3-none-any.whl.metadata (5.0 kB)\n",
            "Collecting click-plugins (from rasterio)\n",
            "  Downloading click_plugins-1.1.1-py2.py3-none-any.whl.metadata (6.4 kB)\n",
            "Requirement already satisfied: pyparsing in /usr/local/lib/python3.10/dist-packages (from rasterio) (3.2.0)\n",
            "Requirement already satisfied: python-dateutil<3.0.0,>=2.1 in /usr/local/lib/python3.10/dist-packages (from botocore<1.36.0,>=1.35.44->boto3) (2.8.2)\n",
            "Requirement already satisfied: urllib3!=2.2.0,<3,>=1.25.4 in /usr/local/lib/python3.10/dist-packages (from botocore<1.36.0,>=1.35.44->boto3) (2.2.3)\n",
            "Requirement already satisfied: pytz>=2020.1 in /usr/local/lib/python3.10/dist-packages (from pandas>=2.1->xarray) (2024.2)\n",
            "Requirement already satisfied: tzdata>=2022.7 in /usr/local/lib/python3.10/dist-packages (from pandas>=2.1->xarray) (2024.2)\n",
            "Requirement already satisfied: six>=1.5 in /usr/local/lib/python3.10/dist-packages (from python-dateutil<3.0.0,>=2.1->botocore<1.36.0,>=1.35.44->boto3) (1.16.0)\n",
            "Downloading boto3-1.35.44-py3-none-any.whl (139 kB)\n",
            "\u001b[2K   \u001b[90m━━━━━━━━━━━━━━━━━━━━━━━━━━━━━━━━━━━━━━━━\u001b[0m \u001b[32m139.2/139.2 kB\u001b[0m \u001b[31m9.5 MB/s\u001b[0m eta \u001b[36m0:00:00\u001b[0m\n",
            "\u001b[?25hDownloading rasterio-1.4.1-cp310-cp310-manylinux_2_17_x86_64.manylinux2014_x86_64.whl (22.2 MB)\n",
            "\u001b[2K   \u001b[90m━━━━━━━━━━━━━━━━━━━━━━━━━━━━━━━━━━━━━━━━\u001b[0m \u001b[32m22.2/22.2 MB\u001b[0m \u001b[31m60.3 MB/s\u001b[0m eta \u001b[36m0:00:00\u001b[0m\n",
            "\u001b[?25hDownloading botocore-1.35.44-py3-none-any.whl (12.6 MB)\n",
            "\u001b[2K   \u001b[90m━━━━━━━━━━━━━━━━━━━━━━━━━━━━━━━━━━━━━━━━\u001b[0m \u001b[32m12.6/12.6 MB\u001b[0m \u001b[31m76.9 MB/s\u001b[0m eta \u001b[36m0:00:00\u001b[0m\n",
            "\u001b[?25hDownloading cligj-0.7.2-py3-none-any.whl (7.1 kB)\n",
            "Downloading jmespath-1.0.1-py3-none-any.whl (20 kB)\n",
            "Downloading s3transfer-0.10.3-py3-none-any.whl (82 kB)\n",
            "\u001b[2K   \u001b[90m━━━━━━━━━━━━━━━━━━━━━━━━━━━━━━━━━━━━━━━━\u001b[0m \u001b[32m82.6/82.6 kB\u001b[0m \u001b[31m6.2 MB/s\u001b[0m eta \u001b[36m0:00:00\u001b[0m\n",
            "\u001b[?25hDownloading affine-2.4.0-py3-none-any.whl (15 kB)\n",
            "Downloading click_plugins-1.1.1-py2.py3-none-any.whl (7.5 kB)\n",
            "Installing collected packages: jmespath, cligj, click-plugins, affine, rasterio, botocore, s3transfer, boto3\n",
            "Successfully installed affine-2.4.0 boto3-1.35.44 botocore-1.35.44 click-plugins-1.1.1 cligj-0.7.2 jmespath-1.0.1 rasterio-1.4.1 s3transfer-0.10.3\n"
          ]
        }
      ],
      "source": [
        "!pip install xarray boto3 rasterio\n"
      ]
    },
    {
      "cell_type": "code",
      "source": [
        "import subprocess\n",
        "\n",
        "import boto3\n",
        "from botocore import UNSIGNED\n",
        "from botocore.client import Config\n",
        "\n",
        "import xarray as xr\n",
        "import numpy as np\n",
        "from scipy.interpolate import griddata\n",
        "\n",
        "import rasterio\n",
        "from rasterio.transform import from_bounds\n"
      ],
      "metadata": {
        "id": "8kgRuJGu3JGG"
      },
      "execution_count": null,
      "outputs": []
    },
    {
      "cell_type": "code",
      "source": [
        "import ee\n",
        "\n",
        "# Trigger the authentication flow.\n",
        "ee.Authenticate()\n",
        "\n",
        "PROJECT_ID = 'pyregence-ee'\n",
        "\n",
        "# Initialize the library.\n",
        "ee.Initialize(project=PROJECT_ID, opt_url='https://earthengine-highvolume.googleapis.com')"
      ],
      "metadata": {
        "id": "DaYsS-IGswXZ"
      },
      "execution_count": null,
      "outputs": []
    },
    {
      "cell_type": "code",
      "source": [
        "base_path = f'projects/{PROJECT_ID}/assets/'\n",
        "# ee_path = 'wrf-data/wrf-data-etrans-sfc'\n",
        "ee_path = 'wrf-data/relative-humidity'"
      ],
      "metadata": {
        "id": "vId_3bBSyTtk"
      },
      "execution_count": null,
      "outputs": []
    },
    {
      "cell_type": "code",
      "source": [
        "# see variable names here: https://dept.atmos.ucla.edu/sites/default/files/alexhall/files/aws_tiers_dirstructure_nov22.pdf\n",
        "# 'soil_m' # etrans_sfc # sh_sfc\n",
        "wrf_variable_name = 'rh'"
      ],
      "metadata": {
        "id": "8PXJ6vdx2BPC"
      },
      "execution_count": null,
      "outputs": []
    },
    {
      "cell_type": "code",
      "source": [
        "# original link to download: https://wrf-cmip6-noversioning.s3.amazonaws.com/index.html#downscaled_products/gcm/canesm5_r1i1p2f1_ssp370_bc/postprocess/d02/\n",
        "\n",
        "# Initialize a session using Amazon S3 (unsigned access)\n",
        "s3 = boto3.client('s3', config=Config(signature_version=UNSIGNED))\n",
        "\n",
        "# Define the bucket and file key for etrans_sfc file\n",
        "bucket_name = 'wrf-cmip6-noversioning'\n",
        "historical_wrf_variable_folder_path = 'downscaled_products/gcm/canesm5_r1i1p2f1_historical_bc/postprocess/d02'\n",
        "historical_wrf_variable_file_key = wrf_variable_name+'.daily.canesm5.r1i1p2f1.hist.bias-correct.d02.{}.nc'\n",
        "hist_years = range(1990, 2014)\n",
        "gcp_bucket = f'wrf-{wrf_variable_name}'\n",
        "\n",
        "future_wrf_variable_folder_path = 'downscaled_products/gcm/canesm5_r1i1p2f1_ssp370_bc/postprocess/d02'\n",
        "future_wrf_variable_file_key = wrf_variable_name + '.daily.canesm5.r1i1p2f1.ssp370.bias-correct.d02.{}.nc'\n",
        "future_years = range(2014, 2031)\n",
        "\n",
        "# Define the file path for the coordinate file (wrfinput_d02_coord.nc)\n",
        "coord_file_name = 'wrfinput_d02_coord.nc'\n",
        "coord_file_key = f'downscaled_products/wrf_coordinates/{coord_file_name}'\n"
      ],
      "metadata": {
        "id": "IYuQvqwO3akx"
      },
      "execution_count": null,
      "outputs": []
    },
    {
      "cell_type": "markdown",
      "source": [
        "### convert netcdfs (historical)"
      ],
      "metadata": {
        "id": "YvD8ET15yE0V"
      }
    },
    {
      "cell_type": "code",
      "source": [
        "# Download the wrfinput_d02_coord.nc file\n",
        "s3.download_file(bucket_name, coord_file_key, coord_file_name)"
      ],
      "metadata": {
        "id": "siCGQII5fx8q"
      },
      "execution_count": null,
      "outputs": []
    },
    {
      "cell_type": "code",
      "source": [
        "wrfinput = xr.open_dataset(coord_file_name)"
      ],
      "metadata": {
        "id": "TNHnMX2zgS0B"
      },
      "execution_count": null,
      "outputs": []
    },
    {
      "cell_type": "code",
      "source": [
        "for year in hist_years:\n",
        "    print(f'download historical {year}')\n",
        "    f_name = historical_wrf_variable_file_key.format(year)\n",
        "    # Download the etrans_sfc file\n",
        "    s3.download_file(bucket_name, f'{historical_wrf_variable_folder_path}/{f_name}', f_name)\n",
        "\n"
      ],
      "metadata": {
        "id": "hM9E_BDjeKTA",
        "colab": {
          "base_uri": "https://localhost:8080/"
        },
        "outputId": "35010a37-d7a9-4b10-96fb-41ad4191b933"
      },
      "execution_count": null,
      "outputs": [
        {
          "output_type": "stream",
          "name": "stdout",
          "text": [
            "download historical 1990\n",
            "download historical 1991\n",
            "download historical 1992\n",
            "download historical 1993\n",
            "download historical 1994\n",
            "download historical 1995\n",
            "download historical 1996\n",
            "download historical 1997\n",
            "download historical 1998\n",
            "download historical 1999\n",
            "download historical 2000\n",
            "download historical 2001\n",
            "download historical 2002\n",
            "download historical 2003\n",
            "download historical 2004\n",
            "download historical 2005\n",
            "download historical 2006\n",
            "download historical 2007\n",
            "download historical 2008\n",
            "download historical 2009\n",
            "download historical 2010\n",
            "download historical 2011\n",
            "download historical 2012\n",
            "download historical 2013\n"
          ]
        }
      ]
    },
    {
      "cell_type": "code",
      "source": [
        "def get_saved_file_name(file_name, soil_m_level=None):\n",
        "    save_file_name = file_name\n",
        "    if soil_m_level:\n",
        "        try:\n",
        "            soil_m_mapping = {\n",
        "                1: '5-cm',\n",
        "                2: '25-cm',\n",
        "                3: '70-cm',\n",
        "                4: '150-cm',\n",
        "            }\n",
        "            save_file_name += f'_level_{soil_m_mapping[soil_m_level]}'\n",
        "        except KeyError:\n",
        "            raise ValueError(f'soil_m_level not supported for {wrf_variable_name}')\n",
        "\n",
        "    save_file_name += f'.daily.canesm5.r1i1p2f1.{year}.tif'\n",
        "    return save_file_name"
      ],
      "metadata": {
        "id": "hd8KfkoQLOJb"
      },
      "execution_count": null,
      "outputs": []
    },
    {
      "cell_type": "code",
      "source": [
        "def process_netcdf(file_name, soil_m_level=None):\n",
        "    nc_file = xr.open_dataset(file_name)\n",
        "\n",
        "    # Extract lat2d and lon2d\n",
        "    lat2d = wrfinput['lat2d'].values\n",
        "    lon2d = wrfinput['lon2d'].values\n",
        "\n",
        "    if wrf_variable_name == 'soil_m' and soil_m_level:\n",
        "        average_wrf_var = nc_file[wrf_variable_name].isel(soil_nz=soil_m_level-1).mean(dim='day').values\n",
        "    else:\n",
        "        average_wrf_var = nc_file[wrf_variable_name].mean(dim='day').values\n",
        "\n",
        "    # Create a regular lon-lat grid for interpolation (note the swapped order)\n",
        "    lon_interp = np.linspace(np.min(lon2d), np.max(lon2d), average_wrf_var.shape[1])\n",
        "    lat_interp = np.linspace(np.min(lat2d), np.max(lat2d), average_wrf_var.shape[0])\n",
        "\n",
        "    # Create a meshgrid for the new grid\n",
        "    lon_mesh, lat_mesh = np.meshgrid(lon_interp, lat_interp)\n",
        "\n",
        "    # Flatten the original lat/lon and data values for interpolation\n",
        "    lat_lon_points = np.array([lat2d.flatten(), lon2d.flatten()]).T\n",
        "    average_wrf_var_flat = average_wrf_var.flatten()\n",
        "\n",
        "\n",
        "    # Perform interpolation to the regular grid\n",
        "    grid_data = griddata(lat_lon_points, average_wrf_var_flat, (lat_mesh, lon_mesh), method='linear')\n",
        "\n",
        "    # Flip the grid data vertically to correct the upside-down orientation\n",
        "    grid_data_flipped = np.flipud(grid_data)\n",
        "\n",
        "    # Save the interpolated data as a GeoTIFF with correct bounds\n",
        "    transform = from_bounds(np.min(lon_interp), np.min(lat_interp), np.max(lon_interp), np.max(lat_interp), grid_data_flipped.shape[1], grid_data_flipped.shape[0])\n",
        "\n",
        "    saved_file_name = get_saved_file_name(wrf_variable_name, soil_m_level=soil_m_level)\n",
        "\n",
        "    with rasterio.open(saved_file_name, 'w', driver='GTiff',\n",
        "                       height=grid_data_flipped.shape[0], width=grid_data_flipped.shape[1], count=1,\n",
        "                       dtype=grid_data_flipped.dtype, crs='EPSG:4326', transform=transform) as dst:\n",
        "        dst.write(grid_data_flipped, 1)\n",
        "    return saved_file_name\n"
      ],
      "metadata": {
        "id": "meW45ymHgdIx"
      },
      "execution_count": null,
      "outputs": []
    },
    {
      "cell_type": "code",
      "source": [
        "wrf_variable_name"
      ],
      "metadata": {
        "colab": {
          "base_uri": "https://localhost:8080/",
          "height": 35
        },
        "id": "hQ4gr95HG_VK",
        "outputId": "6ea0c8fa-6cce-4f32-d756-458d03178b94"
      },
      "execution_count": null,
      "outputs": [
        {
          "output_type": "execute_result",
          "data": {
            "text/plain": [
              "'rh'"
            ],
            "application/vnd.google.colaboratory.intrinsic+json": {
              "type": "string"
            }
          },
          "metadata": {},
          "execution_count": 12
        }
      ]
    },
    {
      "cell_type": "code",
      "source": [
        "f_name"
      ],
      "metadata": {
        "id": "ZjkQz9T9gjDA",
        "colab": {
          "base_uri": "https://localhost:8080/",
          "height": 35
        },
        "outputId": "f553bed6-727e-4a81-e09e-fc0b6cf0c12c"
      },
      "execution_count": null,
      "outputs": [
        {
          "output_type": "execute_result",
          "data": {
            "text/plain": [
              "'rh.daily.canesm5.r1i1p2f1.hist.bias-correct.d02.2013.nc'"
            ],
            "application/vnd.google.colaboratory.intrinsic+json": {
              "type": "string"
            }
          },
          "metadata": {},
          "execution_count": 13
        }
      ]
    },
    {
      "cell_type": "code",
      "source": [
        "if wrf_variable_name != 'soil_m':\n",
        "    soil_m_level = None\n",
        "else:\n",
        "    soil_m_level = 4 # soil_m_level index starts at 1 and ends at 4"
      ],
      "metadata": {
        "id": "cPSaqx74N1Yi"
      },
      "execution_count": null,
      "outputs": []
    },
    {
      "cell_type": "code",
      "source": [
        "soil_m_level"
      ],
      "metadata": {
        "id": "wxDdrqUnD3Sp"
      },
      "execution_count": null,
      "outputs": []
    },
    {
      "cell_type": "code",
      "source": [
        "for year in hist_years:\n",
        "    print(f'processed historical {year}')\n",
        "    f_name = historical_wrf_variable_file_key.format(year)\n",
        "    saved_file_name = process_netcdf(f_name, soil_m_level)\n"
      ],
      "metadata": {
        "colab": {
          "base_uri": "https://localhost:8080/"
        },
        "id": "QqEl-9aUdczX",
        "outputId": "329c0cdc-a5b5-4ff4-f1ce-4208e74a38e8"
      },
      "execution_count": null,
      "outputs": [
        {
          "output_type": "stream",
          "name": "stdout",
          "text": [
            "processed historical 1990\n",
            "processed historical 1991\n",
            "processed historical 1992\n",
            "processed historical 1993\n",
            "processed historical 1994\n",
            "processed historical 1995\n",
            "processed historical 1996\n",
            "processed historical 1997\n",
            "processed historical 1998\n",
            "processed historical 1999\n",
            "processed historical 2000\n",
            "processed historical 2001\n",
            "processed historical 2002\n",
            "processed historical 2003\n",
            "processed historical 2004\n",
            "processed historical 2005\n",
            "processed historical 2006\n",
            "processed historical 2007\n",
            "processed historical 2008\n",
            "processed historical 2009\n",
            "processed historical 2010\n",
            "processed historical 2011\n",
            "processed historical 2012\n",
            "processed historical 2013\n"
          ]
        }
      ]
    },
    {
      "cell_type": "code",
      "source": [
        "saved_file_name"
      ],
      "metadata": {
        "colab": {
          "base_uri": "https://localhost:8080/",
          "height": 35
        },
        "id": "YlaJbOUHMIO2",
        "outputId": "d470ebb9-ad8f-4069-ee0c-0c3f4e3a8b0d"
      },
      "execution_count": null,
      "outputs": [
        {
          "output_type": "execute_result",
          "data": {
            "text/plain": [
              "'rh.daily.canesm5.r1i1p2f1.2013.tif'"
            ],
            "application/vnd.google.colaboratory.intrinsic+json": {
              "type": "string"
            }
          },
          "metadata": {},
          "execution_count": 17
        }
      ]
    },
    {
      "cell_type": "code",
      "source": [
        "with rasterio.open(saved_file_name) as dataset:\n",
        "    # resolution (in degrees)\n",
        "    resolution_deg = dataset.res\n",
        "\n",
        "    lat_center = (dataset.bounds.top + dataset.bounds.bottom) / 2\n",
        "\n",
        "    # Convert resolution in degrees to meters\n",
        "    resolution_lat_m = resolution_deg[1] * 111320  # Resolution for latitude (constant ~111.32 km per degree)\n",
        "    resolution_lon_m = resolution_deg[0] * 111320 * np.cos(np.radians(lat_center))  # Resolution for longitude\n",
        "\n",
        "    print(f\"Approximate resolution in meters: {resolution_lon_m:.2f} m x {resolution_lat_m:.2f} m\")\n"
      ],
      "metadata": {
        "colab": {
          "base_uri": "https://localhost:8080/"
        },
        "id": "5WvwWpfWh0x7",
        "outputId": "5e7e64ef-3f6a-442b-91e7-2162a6b62229"
      },
      "execution_count": null,
      "outputs": [
        {
          "output_type": "stream",
          "name": "stdout",
          "text": [
            "Approximate resolution in meters: 13749.25 m x 11562.08 m\n"
          ]
        }
      ]
    },
    {
      "cell_type": "markdown",
      "source": [
        "### make cogs"
      ],
      "metadata": {
        "id": "poPEh0R6xK8d"
      }
    },
    {
      "cell_type": "code",
      "source": [
        "!apt-get install -y gdal-bin python3-gdal"
      ],
      "metadata": {
        "colab": {
          "base_uri": "https://localhost:8080/"
        },
        "id": "WhBJ-V2kwKQx",
        "outputId": "c3790b4d-70a0-4810-a2bb-30122f3d05b8"
      },
      "execution_count": null,
      "outputs": [
        {
          "output_type": "stream",
          "name": "stdout",
          "text": [
            "Reading package lists... Done\n",
            "Building dependency tree... Done\n",
            "Reading state information... Done\n",
            "The following additional packages will be installed:\n",
            "  python3-numpy\n",
            "Suggested packages:\n",
            "  libgdal-grass python-numpy-doc python3-pytest\n",
            "The following NEW packages will be installed:\n",
            "  gdal-bin python3-gdal python3-numpy\n",
            "0 upgraded, 3 newly installed, 0 to remove and 49 not upgraded.\n",
            "Need to get 5,055 kB of archives.\n",
            "After this operation, 25.1 MB of additional disk space will be used.\n",
            "Get:1 http://archive.ubuntu.com/ubuntu jammy-updates/main amd64 python3-numpy amd64 1:1.21.5-1ubuntu22.04.1 [3,467 kB]\n",
            "Get:2 https://ppa.launchpadcontent.net/ubuntugis/ppa/ubuntu jammy/main amd64 python3-gdal amd64 3.6.4+dfsg-1~jammy0 [1,027 kB]\n",
            "Get:3 https://ppa.launchpadcontent.net/ubuntugis/ppa/ubuntu jammy/main amd64 gdal-bin amd64 3.6.4+dfsg-1~jammy0 [561 kB]\n",
            "Fetched 5,055 kB in 2s (2,169 kB/s)\n",
            "Selecting previously unselected package python3-numpy.\n",
            "(Reading database ... 123629 files and directories currently installed.)\n",
            "Preparing to unpack .../python3-numpy_1%3a1.21.5-1ubuntu22.04.1_amd64.deb ...\n",
            "Unpacking python3-numpy (1:1.21.5-1ubuntu22.04.1) ...\n",
            "Selecting previously unselected package python3-gdal.\n",
            "Preparing to unpack .../python3-gdal_3.6.4+dfsg-1~jammy0_amd64.deb ...\n",
            "Unpacking python3-gdal (3.6.4+dfsg-1~jammy0) ...\n",
            "Selecting previously unselected package gdal-bin.\n",
            "Preparing to unpack .../gdal-bin_3.6.4+dfsg-1~jammy0_amd64.deb ...\n",
            "Unpacking gdal-bin (3.6.4+dfsg-1~jammy0) ...\n",
            "Setting up python3-numpy (1:1.21.5-1ubuntu22.04.1) ...\n",
            "Setting up python3-gdal (3.6.4+dfsg-1~jammy0) ...\n",
            "Setting up gdal-bin (3.6.4+dfsg-1~jammy0) ...\n",
            "Processing triggers for man-db (2.10.2-1) ...\n"
          ]
        }
      ]
    },
    {
      "cell_type": "code",
      "source": [
        "!gdalinfo --version\n"
      ],
      "metadata": {
        "colab": {
          "base_uri": "https://localhost:8080/"
        },
        "id": "rIQlJYaBwiOd",
        "outputId": "6a371dd7-6908-4534-ee64-94ccea49dc14"
      },
      "execution_count": null,
      "outputs": [
        {
          "output_type": "stream",
          "name": "stdout",
          "text": [
            "GDAL 3.6.4, released 2023/04/17\n"
          ]
        }
      ]
    },
    {
      "cell_type": "code",
      "source": [],
      "metadata": {
        "id": "_nyQj2Ik8v6n"
      },
      "execution_count": null,
      "outputs": []
    },
    {
      "cell_type": "code",
      "source": [
        "# save cogs\n",
        "def save_cogs(filename):\n",
        "    if filename.endswith('.tif'):\n",
        "        filename = filename[:-4]\n",
        "    print('filename', filename)\n",
        "    cog_cmd = f'gdal_translate {filename}.tif {filename}_cog.tif -co TILED=YES -co COPY_SRC_OVERVIEWS=YES -co COMPRESS=LZW'\n",
        "    print(f\"cog_cmd >> : {cog_cmd}\")\n",
        "\n",
        "    result = subprocess.check_output(cog_cmd, shell=True)\n",
        "    print(\"result\", result)\n"
      ],
      "metadata": {
        "id": "pV-2_UzZxHnp"
      },
      "execution_count": null,
      "outputs": []
    },
    {
      "cell_type": "code",
      "source": [
        "soil_m_level"
      ],
      "metadata": {
        "id": "EQk33zJFEeKl"
      },
      "execution_count": null,
      "outputs": []
    },
    {
      "cell_type": "code",
      "source": [
        "for year in hist_years:\n",
        "    print(f'uploaded historical {year}')\n",
        "    f_name = get_saved_file_name(wrf_variable_name, soil_m_level=soil_m_level)\n",
        "    # f_name = f'{wrf_variable_name}.daily.canesm5.r1i1p2f1.{year}'\n",
        "    save_cogs(f_name)"
      ],
      "metadata": {
        "colab": {
          "base_uri": "https://localhost:8080/"
        },
        "id": "VT-IW_DtxnMv",
        "outputId": "ba38f58e-6fff-4ebb-dd1e-34b386f86705"
      },
      "execution_count": null,
      "outputs": [
        {
          "output_type": "stream",
          "name": "stdout",
          "text": [
            "uploaded historical 1990\n",
            "filename rh.daily.canesm5.r1i1p2f1.1990\n",
            "cog_cmd >> : gdal_translate rh.daily.canesm5.r1i1p2f1.1990.tif rh.daily.canesm5.r1i1p2f1.1990_cog.tif -co TILED=YES -co COPY_SRC_OVERVIEWS=YES -co COMPRESS=LZW\n",
            "result b'Input file size is 270, 340\\n0...10...20...30...40...50...60...70...80...90...100 - done.\\n'\n",
            "uploaded historical 1991\n",
            "filename rh.daily.canesm5.r1i1p2f1.1991\n",
            "cog_cmd >> : gdal_translate rh.daily.canesm5.r1i1p2f1.1991.tif rh.daily.canesm5.r1i1p2f1.1991_cog.tif -co TILED=YES -co COPY_SRC_OVERVIEWS=YES -co COMPRESS=LZW\n",
            "result b'Input file size is 270, 340\\n0...10...20...30...40...50...60...70...80...90...100 - done.\\n'\n",
            "uploaded historical 1992\n",
            "filename rh.daily.canesm5.r1i1p2f1.1992\n",
            "cog_cmd >> : gdal_translate rh.daily.canesm5.r1i1p2f1.1992.tif rh.daily.canesm5.r1i1p2f1.1992_cog.tif -co TILED=YES -co COPY_SRC_OVERVIEWS=YES -co COMPRESS=LZW\n",
            "result b'Input file size is 270, 340\\n0...10...20...30...40...50...60...70...80...90...100 - done.\\n'\n",
            "uploaded historical 1993\n",
            "filename rh.daily.canesm5.r1i1p2f1.1993\n",
            "cog_cmd >> : gdal_translate rh.daily.canesm5.r1i1p2f1.1993.tif rh.daily.canesm5.r1i1p2f1.1993_cog.tif -co TILED=YES -co COPY_SRC_OVERVIEWS=YES -co COMPRESS=LZW\n",
            "result b'Input file size is 270, 340\\n0...10...20...30...40...50...60...70...80...90...100 - done.\\n'\n",
            "uploaded historical 1994\n",
            "filename rh.daily.canesm5.r1i1p2f1.1994\n",
            "cog_cmd >> : gdal_translate rh.daily.canesm5.r1i1p2f1.1994.tif rh.daily.canesm5.r1i1p2f1.1994_cog.tif -co TILED=YES -co COPY_SRC_OVERVIEWS=YES -co COMPRESS=LZW\n",
            "result b'Input file size is 270, 340\\n0...10...20...30...40...50...60...70...80...90...100 - done.\\n'\n",
            "uploaded historical 1995\n",
            "filename rh.daily.canesm5.r1i1p2f1.1995\n",
            "cog_cmd >> : gdal_translate rh.daily.canesm5.r1i1p2f1.1995.tif rh.daily.canesm5.r1i1p2f1.1995_cog.tif -co TILED=YES -co COPY_SRC_OVERVIEWS=YES -co COMPRESS=LZW\n",
            "result b'Input file size is 270, 340\\n0...10...20...30...40...50...60...70...80...90...100 - done.\\n'\n",
            "uploaded historical 1996\n",
            "filename rh.daily.canesm5.r1i1p2f1.1996\n",
            "cog_cmd >> : gdal_translate rh.daily.canesm5.r1i1p2f1.1996.tif rh.daily.canesm5.r1i1p2f1.1996_cog.tif -co TILED=YES -co COPY_SRC_OVERVIEWS=YES -co COMPRESS=LZW\n",
            "result b'Input file size is 270, 340\\n0...10...20...30...40...50...60...70...80...90...100 - done.\\n'\n",
            "uploaded historical 1997\n",
            "filename rh.daily.canesm5.r1i1p2f1.1997\n",
            "cog_cmd >> : gdal_translate rh.daily.canesm5.r1i1p2f1.1997.tif rh.daily.canesm5.r1i1p2f1.1997_cog.tif -co TILED=YES -co COPY_SRC_OVERVIEWS=YES -co COMPRESS=LZW\n",
            "result b'Input file size is 270, 340\\n0...10...20...30...40...50...60...70...80...90...100 - done.\\n'\n",
            "uploaded historical 1998\n",
            "filename rh.daily.canesm5.r1i1p2f1.1998\n",
            "cog_cmd >> : gdal_translate rh.daily.canesm5.r1i1p2f1.1998.tif rh.daily.canesm5.r1i1p2f1.1998_cog.tif -co TILED=YES -co COPY_SRC_OVERVIEWS=YES -co COMPRESS=LZW\n",
            "result b'Input file size is 270, 340\\n0...10...20...30...40...50...60...70...80...90...100 - done.\\n'\n",
            "uploaded historical 1999\n",
            "filename rh.daily.canesm5.r1i1p2f1.1999\n",
            "cog_cmd >> : gdal_translate rh.daily.canesm5.r1i1p2f1.1999.tif rh.daily.canesm5.r1i1p2f1.1999_cog.tif -co TILED=YES -co COPY_SRC_OVERVIEWS=YES -co COMPRESS=LZW\n",
            "result b'Input file size is 270, 340\\n0...10...20...30...40...50...60...70...80...90...100 - done.\\n'\n",
            "uploaded historical 2000\n",
            "filename rh.daily.canesm5.r1i1p2f1.2000\n",
            "cog_cmd >> : gdal_translate rh.daily.canesm5.r1i1p2f1.2000.tif rh.daily.canesm5.r1i1p2f1.2000_cog.tif -co TILED=YES -co COPY_SRC_OVERVIEWS=YES -co COMPRESS=LZW\n",
            "result b'Input file size is 270, 340\\n0...10...20...30...40...50...60...70...80...90...100 - done.\\n'\n",
            "uploaded historical 2001\n",
            "filename rh.daily.canesm5.r1i1p2f1.2001\n",
            "cog_cmd >> : gdal_translate rh.daily.canesm5.r1i1p2f1.2001.tif rh.daily.canesm5.r1i1p2f1.2001_cog.tif -co TILED=YES -co COPY_SRC_OVERVIEWS=YES -co COMPRESS=LZW\n",
            "result b'Input file size is 270, 340\\n0...10...20...30...40...50...60...70...80...90...100 - done.\\n'\n",
            "uploaded historical 2002\n",
            "filename rh.daily.canesm5.r1i1p2f1.2002\n",
            "cog_cmd >> : gdal_translate rh.daily.canesm5.r1i1p2f1.2002.tif rh.daily.canesm5.r1i1p2f1.2002_cog.tif -co TILED=YES -co COPY_SRC_OVERVIEWS=YES -co COMPRESS=LZW\n",
            "result b'Input file size is 270, 340\\n0...10...20...30...40...50...60...70...80...90...100 - done.\\n'\n",
            "uploaded historical 2003\n",
            "filename rh.daily.canesm5.r1i1p2f1.2003\n",
            "cog_cmd >> : gdal_translate rh.daily.canesm5.r1i1p2f1.2003.tif rh.daily.canesm5.r1i1p2f1.2003_cog.tif -co TILED=YES -co COPY_SRC_OVERVIEWS=YES -co COMPRESS=LZW\n",
            "result b'Input file size is 270, 340\\n0...10...20...30...40...50...60...70...80...90...100 - done.\\n'\n",
            "uploaded historical 2004\n",
            "filename rh.daily.canesm5.r1i1p2f1.2004\n",
            "cog_cmd >> : gdal_translate rh.daily.canesm5.r1i1p2f1.2004.tif rh.daily.canesm5.r1i1p2f1.2004_cog.tif -co TILED=YES -co COPY_SRC_OVERVIEWS=YES -co COMPRESS=LZW\n",
            "result b'Input file size is 270, 340\\n0...10...20...30...40...50...60...70...80...90...100 - done.\\n'\n",
            "uploaded historical 2005\n",
            "filename rh.daily.canesm5.r1i1p2f1.2005\n",
            "cog_cmd >> : gdal_translate rh.daily.canesm5.r1i1p2f1.2005.tif rh.daily.canesm5.r1i1p2f1.2005_cog.tif -co TILED=YES -co COPY_SRC_OVERVIEWS=YES -co COMPRESS=LZW\n",
            "result b'Input file size is 270, 340\\n0...10...20...30...40...50...60...70...80...90...100 - done.\\n'\n",
            "uploaded historical 2006\n",
            "filename rh.daily.canesm5.r1i1p2f1.2006\n",
            "cog_cmd >> : gdal_translate rh.daily.canesm5.r1i1p2f1.2006.tif rh.daily.canesm5.r1i1p2f1.2006_cog.tif -co TILED=YES -co COPY_SRC_OVERVIEWS=YES -co COMPRESS=LZW\n",
            "result b'Input file size is 270, 340\\n0...10...20...30...40...50...60...70...80...90...100 - done.\\n'\n",
            "uploaded historical 2007\n",
            "filename rh.daily.canesm5.r1i1p2f1.2007\n",
            "cog_cmd >> : gdal_translate rh.daily.canesm5.r1i1p2f1.2007.tif rh.daily.canesm5.r1i1p2f1.2007_cog.tif -co TILED=YES -co COPY_SRC_OVERVIEWS=YES -co COMPRESS=LZW\n",
            "result b'Input file size is 270, 340\\n0...10...20...30...40...50...60...70...80...90...100 - done.\\n'\n",
            "uploaded historical 2008\n",
            "filename rh.daily.canesm5.r1i1p2f1.2008\n",
            "cog_cmd >> : gdal_translate rh.daily.canesm5.r1i1p2f1.2008.tif rh.daily.canesm5.r1i1p2f1.2008_cog.tif -co TILED=YES -co COPY_SRC_OVERVIEWS=YES -co COMPRESS=LZW\n",
            "result b'Input file size is 270, 340\\n0...10...20...30...40...50...60...70...80...90...100 - done.\\n'\n",
            "uploaded historical 2009\n",
            "filename rh.daily.canesm5.r1i1p2f1.2009\n",
            "cog_cmd >> : gdal_translate rh.daily.canesm5.r1i1p2f1.2009.tif rh.daily.canesm5.r1i1p2f1.2009_cog.tif -co TILED=YES -co COPY_SRC_OVERVIEWS=YES -co COMPRESS=LZW\n",
            "result b'Input file size is 270, 340\\n0...10...20...30...40...50...60...70...80...90...100 - done.\\n'\n",
            "uploaded historical 2010\n",
            "filename rh.daily.canesm5.r1i1p2f1.2010\n",
            "cog_cmd >> : gdal_translate rh.daily.canesm5.r1i1p2f1.2010.tif rh.daily.canesm5.r1i1p2f1.2010_cog.tif -co TILED=YES -co COPY_SRC_OVERVIEWS=YES -co COMPRESS=LZW\n",
            "result b'Input file size is 270, 340\\n0...10...20...30...40...50...60...70...80...90...100 - done.\\n'\n",
            "uploaded historical 2011\n",
            "filename rh.daily.canesm5.r1i1p2f1.2011\n",
            "cog_cmd >> : gdal_translate rh.daily.canesm5.r1i1p2f1.2011.tif rh.daily.canesm5.r1i1p2f1.2011_cog.tif -co TILED=YES -co COPY_SRC_OVERVIEWS=YES -co COMPRESS=LZW\n",
            "result b'Input file size is 270, 340\\n0...10...20...30...40...50...60...70...80...90...100 - done.\\n'\n",
            "uploaded historical 2012\n",
            "filename rh.daily.canesm5.r1i1p2f1.2012\n",
            "cog_cmd >> : gdal_translate rh.daily.canesm5.r1i1p2f1.2012.tif rh.daily.canesm5.r1i1p2f1.2012_cog.tif -co TILED=YES -co COPY_SRC_OVERVIEWS=YES -co COMPRESS=LZW\n",
            "result b'Input file size is 270, 340\\n0...10...20...30...40...50...60...70...80...90...100 - done.\\n'\n",
            "uploaded historical 2013\n",
            "filename rh.daily.canesm5.r1i1p2f1.2013\n",
            "cog_cmd >> : gdal_translate rh.daily.canesm5.r1i1p2f1.2013.tif rh.daily.canesm5.r1i1p2f1.2013_cog.tif -co TILED=YES -co COPY_SRC_OVERVIEWS=YES -co COMPRESS=LZW\n",
            "result b'Input file size is 270, 340\\n0...10...20...30...40...50...60...70...80...90...100 - done.\\n'\n"
          ]
        }
      ]
    },
    {
      "cell_type": "markdown",
      "source": [
        "### upload to cloud"
      ],
      "metadata": {
        "id": "aGHsb4BQyJ4B"
      }
    },
    {
      "cell_type": "code",
      "source": [
        "# create bucket if not exists\n",
        "REGION = 'us-central1'\n",
        "\n",
        "from google.cloud import storage\n",
        "from google.api_core.exceptions import Conflict\n",
        "\n",
        "def create_bucket_if_not_exists(bucket_name, location=REGION):\n",
        "    # Initialize a storage client\n",
        "    storage_client = storage.Client(project=PROJECT_ID)\n",
        "\n",
        "    # Check if the bucket already exists\n",
        "    try:\n",
        "        bucket = storage_client.get_bucket(bucket_name)\n",
        "        print(f'Bucket {bucket_name} already exists.')\n",
        "    except Exception as e:\n",
        "        if isinstance(e, Conflict):\n",
        "            print(f'Bucket {bucket_name} already exists.')\n",
        "        else:\n",
        "            # If the bucket does not exist, create it\n",
        "            bucket = storage_client.bucket(bucket_name)\n",
        "            bucket.location = location\n",
        "            bucket.create()\n",
        "            print(f'Bucket {bucket_name} created at location {location}.')\n",
        "\n",
        "create_bucket_if_not_exists(gcp_bucket)\n"
      ],
      "metadata": {
        "colab": {
          "base_uri": "https://localhost:8080/"
        },
        "id": "rkvC2C7B88Lt",
        "outputId": "a937dd25-c8a7-4e14-eb27-9e3b4675c43a"
      },
      "execution_count": null,
      "outputs": [
        {
          "output_type": "stream",
          "name": "stderr",
          "text": [
            "<ipython-input-25-8fcf5dd650a2>:21: DeprecationWarning: Assignment to 'Bucket.location' is deprecated, as it is only valid before the bucket is created. Instead, pass the location to `Bucket.create`.\n",
            "  bucket.location = location\n"
          ]
        },
        {
          "output_type": "stream",
          "name": "stdout",
          "text": [
            "Bucket wrf-rh created at location us-central1.\n"
          ]
        }
      ]
    },
    {
      "cell_type": "code",
      "source": [],
      "metadata": {
        "id": "GQ_eK0Vy-ipt"
      },
      "execution_count": null,
      "outputs": []
    },
    {
      "cell_type": "code",
      "source": [
        "def upload_to_gcp(filename):\n",
        "    if filename.endswith('.tif'):\n",
        "        filename = filename[:-4]\n",
        "    # Copy the file\n",
        "    cp = f\"gsutil cp {filename}_cog.tif gs://{gcp_bucket}/{filename}.tif\"\n",
        "    print(f\"cp >> : {cp}\")\n",
        "\n",
        "    result = subprocess.check_output(cp, shell=True)\n",
        "    print(\"result\", result)"
      ],
      "metadata": {
        "id": "iknYW0SJrepj"
      },
      "execution_count": null,
      "outputs": []
    },
    {
      "cell_type": "code",
      "source": [
        "for year in hist_years:\n",
        "    print(f'uploaded historical {year}')\n",
        "    # f_name = f'{wrf_variable_name}.daily.canesm5.r1i1p2f1.{year}'\n",
        "    f_name = get_saved_file_name(wrf_variable_name, soil_m_level=soil_m_level)\n",
        "    upload_to_gcp(f_name)\n"
      ],
      "metadata": {
        "colab": {
          "base_uri": "https://localhost:8080/"
        },
        "id": "khrM2uL0qbkf",
        "outputId": "98197a5b-5044-458d-a801-087b1f76e3ef"
      },
      "execution_count": null,
      "outputs": [
        {
          "output_type": "stream",
          "name": "stdout",
          "text": [
            "uploaded historical 1990\n",
            "cp >> : gsutil cp rh.daily.canesm5.r1i1p2f1.1990_cog.tif gs://wrf-rh/rh.daily.canesm5.r1i1p2f1.1990.tif\n",
            "result b''\n",
            "uploaded historical 1991\n",
            "cp >> : gsutil cp rh.daily.canesm5.r1i1p2f1.1991_cog.tif gs://wrf-rh/rh.daily.canesm5.r1i1p2f1.1991.tif\n",
            "result b''\n",
            "uploaded historical 1992\n",
            "cp >> : gsutil cp rh.daily.canesm5.r1i1p2f1.1992_cog.tif gs://wrf-rh/rh.daily.canesm5.r1i1p2f1.1992.tif\n",
            "result b''\n",
            "uploaded historical 1993\n",
            "cp >> : gsutil cp rh.daily.canesm5.r1i1p2f1.1993_cog.tif gs://wrf-rh/rh.daily.canesm5.r1i1p2f1.1993.tif\n",
            "result b''\n",
            "uploaded historical 1994\n",
            "cp >> : gsutil cp rh.daily.canesm5.r1i1p2f1.1994_cog.tif gs://wrf-rh/rh.daily.canesm5.r1i1p2f1.1994.tif\n",
            "result b''\n",
            "uploaded historical 1995\n",
            "cp >> : gsutil cp rh.daily.canesm5.r1i1p2f1.1995_cog.tif gs://wrf-rh/rh.daily.canesm5.r1i1p2f1.1995.tif\n",
            "result b''\n",
            "uploaded historical 1996\n",
            "cp >> : gsutil cp rh.daily.canesm5.r1i1p2f1.1996_cog.tif gs://wrf-rh/rh.daily.canesm5.r1i1p2f1.1996.tif\n",
            "result b''\n",
            "uploaded historical 1997\n",
            "cp >> : gsutil cp rh.daily.canesm5.r1i1p2f1.1997_cog.tif gs://wrf-rh/rh.daily.canesm5.r1i1p2f1.1997.tif\n",
            "result b''\n",
            "uploaded historical 1998\n",
            "cp >> : gsutil cp rh.daily.canesm5.r1i1p2f1.1998_cog.tif gs://wrf-rh/rh.daily.canesm5.r1i1p2f1.1998.tif\n",
            "result b''\n",
            "uploaded historical 1999\n",
            "cp >> : gsutil cp rh.daily.canesm5.r1i1p2f1.1999_cog.tif gs://wrf-rh/rh.daily.canesm5.r1i1p2f1.1999.tif\n",
            "result b''\n",
            "uploaded historical 2000\n",
            "cp >> : gsutil cp rh.daily.canesm5.r1i1p2f1.2000_cog.tif gs://wrf-rh/rh.daily.canesm5.r1i1p2f1.2000.tif\n",
            "result b''\n",
            "uploaded historical 2001\n",
            "cp >> : gsutil cp rh.daily.canesm5.r1i1p2f1.2001_cog.tif gs://wrf-rh/rh.daily.canesm5.r1i1p2f1.2001.tif\n",
            "result b''\n",
            "uploaded historical 2002\n",
            "cp >> : gsutil cp rh.daily.canesm5.r1i1p2f1.2002_cog.tif gs://wrf-rh/rh.daily.canesm5.r1i1p2f1.2002.tif\n",
            "result b''\n",
            "uploaded historical 2003\n",
            "cp >> : gsutil cp rh.daily.canesm5.r1i1p2f1.2003_cog.tif gs://wrf-rh/rh.daily.canesm5.r1i1p2f1.2003.tif\n",
            "result b''\n",
            "uploaded historical 2004\n",
            "cp >> : gsutil cp rh.daily.canesm5.r1i1p2f1.2004_cog.tif gs://wrf-rh/rh.daily.canesm5.r1i1p2f1.2004.tif\n",
            "result b''\n",
            "uploaded historical 2005\n",
            "cp >> : gsutil cp rh.daily.canesm5.r1i1p2f1.2005_cog.tif gs://wrf-rh/rh.daily.canesm5.r1i1p2f1.2005.tif\n",
            "result b''\n",
            "uploaded historical 2006\n",
            "cp >> : gsutil cp rh.daily.canesm5.r1i1p2f1.2006_cog.tif gs://wrf-rh/rh.daily.canesm5.r1i1p2f1.2006.tif\n",
            "result b''\n",
            "uploaded historical 2007\n",
            "cp >> : gsutil cp rh.daily.canesm5.r1i1p2f1.2007_cog.tif gs://wrf-rh/rh.daily.canesm5.r1i1p2f1.2007.tif\n",
            "result b''\n",
            "uploaded historical 2008\n",
            "cp >> : gsutil cp rh.daily.canesm5.r1i1p2f1.2008_cog.tif gs://wrf-rh/rh.daily.canesm5.r1i1p2f1.2008.tif\n",
            "result b''\n",
            "uploaded historical 2009\n",
            "cp >> : gsutil cp rh.daily.canesm5.r1i1p2f1.2009_cog.tif gs://wrf-rh/rh.daily.canesm5.r1i1p2f1.2009.tif\n",
            "result b''\n",
            "uploaded historical 2010\n",
            "cp >> : gsutil cp rh.daily.canesm5.r1i1p2f1.2010_cog.tif gs://wrf-rh/rh.daily.canesm5.r1i1p2f1.2010.tif\n",
            "result b''\n",
            "uploaded historical 2011\n",
            "cp >> : gsutil cp rh.daily.canesm5.r1i1p2f1.2011_cog.tif gs://wrf-rh/rh.daily.canesm5.r1i1p2f1.2011.tif\n",
            "result b''\n",
            "uploaded historical 2012\n",
            "cp >> : gsutil cp rh.daily.canesm5.r1i1p2f1.2012_cog.tif gs://wrf-rh/rh.daily.canesm5.r1i1p2f1.2012.tif\n",
            "result b''\n",
            "uploaded historical 2013\n",
            "cp >> : gsutil cp rh.daily.canesm5.r1i1p2f1.2013_cog.tif gs://wrf-rh/rh.daily.canesm5.r1i1p2f1.2013.tif\n",
            "result b''\n"
          ]
        }
      ]
    },
    {
      "cell_type": "markdown",
      "source": [
        "### upload to ee"
      ],
      "metadata": {
        "id": "QigRGHrRyM5Z"
      }
    },
    {
      "cell_type": "code",
      "source": [
        "# Set default project\n",
        "!earthengine set_project {PROJECT_ID}\n",
        "!gcloud config set project {PROJECT_ID}"
      ],
      "metadata": {
        "colab": {
          "base_uri": "https://localhost:8080/"
        },
        "id": "KQhWCXzGsWBK",
        "outputId": "195cc866-087c-4665-d0b8-f45038004391"
      },
      "execution_count": null,
      "outputs": [
        {
          "output_type": "stream",
          "name": "stdout",
          "text": [
            "Successfully saved project id\n",
            "Updated property [core/project].\n"
          ]
        }
      ]
    },
    {
      "cell_type": "code",
      "source": [
        "PROJECT_ID"
      ],
      "metadata": {
        "colab": {
          "base_uri": "https://localhost:8080/",
          "height": 35
        },
        "id": "gQ5P1vLEhXhG",
        "outputId": "93f59157-5f87-4610-c1fe-7316bb4e127b"
      },
      "execution_count": null,
      "outputs": [
        {
          "output_type": "execute_result",
          "data": {
            "text/plain": [
              "'pyregence-ee'"
            ],
            "application/vnd.google.colaboratory.intrinsic+json": {
              "type": "string"
            }
          },
          "metadata": {},
          "execution_count": 29
        }
      ]
    },
    {
      "cell_type": "code",
      "source": [
        "f'{base_path}{ee_path}'"
      ],
      "metadata": {
        "colab": {
          "base_uri": "https://localhost:8080/",
          "height": 35
        },
        "id": "MFWCLZzJ-wBh",
        "outputId": "9608af6e-8347-4a27-983e-2b235ccdd8b1"
      },
      "execution_count": null,
      "outputs": [
        {
          "output_type": "execute_result",
          "data": {
            "text/plain": [
              "'projects/pyregence-ee/assets/wrf-data/relative-humidity'"
            ],
            "application/vnd.google.colaboratory.intrinsic+json": {
              "type": "string"
            }
          },
          "metadata": {},
          "execution_count": 30
        }
      ]
    },
    {
      "cell_type": "code",
      "source": [
        "# create collection if not exists\n",
        "try:\n",
        "    ee.data.createAsset({'type': 'IMAGE_COLLECTION'}, f'{base_path}{ee_path}', False)\n",
        "except ee.EEException:\n",
        "    print('assets already exists')\n"
      ],
      "metadata": {
        "id": "8UVKaHdZ-jzK"
      },
      "execution_count": null,
      "outputs": []
    },
    {
      "cell_type": "code",
      "source": [
        "for year in hist_years:\n",
        "    # f_name = f'{wrf_variable_name}.daily.canesm5.r1i1p2f1.{year}'\n",
        "    f_name = get_saved_file_name(wrf_variable_name, soil_m_level=soil_m_level)\n",
        "    img = ee.Image.loadGeoTIFF(f'gs://{gcp_bucket}/{f_name}')\n",
        "    img = img.set(\n",
        "        'system:time_start', ee.Date(f'{year}-01-01').millis(),\n",
        "        'system:time_end', ee.Date(f'{year}-12-31').millis(),\n",
        "        'soil_m_level', soil_m_level,\n",
        "        'wrf_variable_name', wrf_variable_name,\n",
        "    )\n",
        "    export_image = f'projects/{PROJECT_ID}/assets/{ee_path}/{\"_\".join(f_name.split(\".\"))}'\n",
        "    print(f'uploading to {export_image}')\n",
        "    image_task = ee.batch.Export.image.toAsset(\n",
        "        image=img,\n",
        "        description=f'{f_name}',\n",
        "        assetId=export_image,\n",
        "        region=img.geometry().bounds(),\n",
        "        scale=5000,\n",
        "        maxPixels=1e13,\n",
        "    )\n",
        "\n",
        "    image_task.start()\n"
      ],
      "metadata": {
        "colab": {
          "base_uri": "https://localhost:8080/"
        },
        "id": "B18EOlOWuDsW",
        "outputId": "03bf4ad9-b3a7-4a09-891d-796679f27023"
      },
      "execution_count": null,
      "outputs": [
        {
          "output_type": "stream",
          "name": "stdout",
          "text": [
            "uploading to projects/pyregence-ee/assets/wrf-data/relative-humidity/rh_daily_canesm5_r1i1p2f1_1990_tif\n",
            "uploading to projects/pyregence-ee/assets/wrf-data/relative-humidity/rh_daily_canesm5_r1i1p2f1_1991_tif\n",
            "uploading to projects/pyregence-ee/assets/wrf-data/relative-humidity/rh_daily_canesm5_r1i1p2f1_1992_tif\n",
            "uploading to projects/pyregence-ee/assets/wrf-data/relative-humidity/rh_daily_canesm5_r1i1p2f1_1993_tif\n",
            "uploading to projects/pyregence-ee/assets/wrf-data/relative-humidity/rh_daily_canesm5_r1i1p2f1_1994_tif\n",
            "uploading to projects/pyregence-ee/assets/wrf-data/relative-humidity/rh_daily_canesm5_r1i1p2f1_1995_tif\n",
            "uploading to projects/pyregence-ee/assets/wrf-data/relative-humidity/rh_daily_canesm5_r1i1p2f1_1996_tif\n",
            "uploading to projects/pyregence-ee/assets/wrf-data/relative-humidity/rh_daily_canesm5_r1i1p2f1_1997_tif\n",
            "uploading to projects/pyregence-ee/assets/wrf-data/relative-humidity/rh_daily_canesm5_r1i1p2f1_1998_tif\n",
            "uploading to projects/pyregence-ee/assets/wrf-data/relative-humidity/rh_daily_canesm5_r1i1p2f1_1999_tif\n",
            "uploading to projects/pyregence-ee/assets/wrf-data/relative-humidity/rh_daily_canesm5_r1i1p2f1_2000_tif\n",
            "uploading to projects/pyregence-ee/assets/wrf-data/relative-humidity/rh_daily_canesm5_r1i1p2f1_2001_tif\n",
            "uploading to projects/pyregence-ee/assets/wrf-data/relative-humidity/rh_daily_canesm5_r1i1p2f1_2002_tif\n",
            "uploading to projects/pyregence-ee/assets/wrf-data/relative-humidity/rh_daily_canesm5_r1i1p2f1_2003_tif\n",
            "uploading to projects/pyregence-ee/assets/wrf-data/relative-humidity/rh_daily_canesm5_r1i1p2f1_2004_tif\n",
            "uploading to projects/pyregence-ee/assets/wrf-data/relative-humidity/rh_daily_canesm5_r1i1p2f1_2005_tif\n",
            "uploading to projects/pyregence-ee/assets/wrf-data/relative-humidity/rh_daily_canesm5_r1i1p2f1_2006_tif\n",
            "uploading to projects/pyregence-ee/assets/wrf-data/relative-humidity/rh_daily_canesm5_r1i1p2f1_2007_tif\n",
            "uploading to projects/pyregence-ee/assets/wrf-data/relative-humidity/rh_daily_canesm5_r1i1p2f1_2008_tif\n",
            "uploading to projects/pyregence-ee/assets/wrf-data/relative-humidity/rh_daily_canesm5_r1i1p2f1_2009_tif\n",
            "uploading to projects/pyregence-ee/assets/wrf-data/relative-humidity/rh_daily_canesm5_r1i1p2f1_2010_tif\n",
            "uploading to projects/pyregence-ee/assets/wrf-data/relative-humidity/rh_daily_canesm5_r1i1p2f1_2011_tif\n",
            "uploading to projects/pyregence-ee/assets/wrf-data/relative-humidity/rh_daily_canesm5_r1i1p2f1_2012_tif\n",
            "uploading to projects/pyregence-ee/assets/wrf-data/relative-humidity/rh_daily_canesm5_r1i1p2f1_2013_tif\n"
          ]
        }
      ]
    },
    {
      "cell_type": "markdown",
      "source": [
        "### convert netcdfs (future)"
      ],
      "metadata": {
        "id": "1KEAaVlR04RE"
      }
    },
    {
      "cell_type": "code",
      "source": [
        "# Initialize a session using Amazon S3 (unsigned access)\n",
        "s3 = boto3.client('s3', config=Config(signature_version=UNSIGNED))"
      ],
      "metadata": {
        "id": "XLNckLbI1UE_"
      },
      "execution_count": null,
      "outputs": []
    },
    {
      "cell_type": "code",
      "source": [
        "for year in future_years:\n",
        "    print(f'download future {year}')\n",
        "    f_name = future_wrf_variable_file_key.format(year)\n",
        "    # Download the etrans_sfc file\n",
        "    s3.download_file(bucket_name, f'{future_wrf_variable_folder_path}/{f_name}', f_name)\n",
        "\n"
      ],
      "metadata": {
        "colab": {
          "base_uri": "https://localhost:8080/"
        },
        "id": "CLYj-TcuuC_8",
        "outputId": "13dfa8c5-370f-440a-93ef-0d5a17c4cc7e"
      },
      "execution_count": null,
      "outputs": [
        {
          "output_type": "stream",
          "name": "stdout",
          "text": [
            "download future 2014\n",
            "download future 2015\n",
            "download future 2016\n",
            "download future 2017\n",
            "download future 2018\n",
            "download future 2019\n",
            "download future 2020\n",
            "download future 2021\n",
            "download future 2022\n",
            "download future 2023\n",
            "download future 2024\n",
            "download future 2025\n",
            "download future 2026\n",
            "download future 2027\n",
            "download future 2028\n",
            "download future 2029\n",
            "download future 2030\n"
          ]
        }
      ]
    },
    {
      "cell_type": "code",
      "source": [],
      "metadata": {
        "id": "iSYqVe3bbuLZ"
      },
      "execution_count": null,
      "outputs": []
    },
    {
      "cell_type": "code",
      "source": [
        "for year in future_years:\n",
        "    print(f'processed historical {year}')\n",
        "    f_name = future_wrf_variable_file_key.format(year)\n",
        "    saved_file_name = process_netcdf(f_name, soil_m_level)\n"
      ],
      "metadata": {
        "colab": {
          "base_uri": "https://localhost:8080/"
        },
        "id": "2YoSICCy1JYm",
        "outputId": "832c9445-3804-4119-e51e-ef9101acf711"
      },
      "execution_count": null,
      "outputs": [
        {
          "output_type": "stream",
          "name": "stdout",
          "text": [
            "processed historical 2014\n",
            "processed historical 2015\n",
            "processed historical 2016\n",
            "processed historical 2017\n",
            "processed historical 2018\n",
            "processed historical 2019\n",
            "processed historical 2020\n",
            "processed historical 2021\n",
            "processed historical 2022\n",
            "processed historical 2023\n",
            "processed historical 2024\n",
            "processed historical 2025\n",
            "processed historical 2026\n",
            "processed historical 2027\n",
            "processed historical 2028\n",
            "processed historical 2029\n",
            "processed historical 2030\n"
          ]
        }
      ]
    },
    {
      "cell_type": "markdown",
      "source": [
        "### make cogs"
      ],
      "metadata": {
        "id": "dV1wojnd3FJ3"
      }
    },
    {
      "cell_type": "code",
      "source": [
        "for year in future_years:\n",
        "    print(f'uploaded historical {year}')\n",
        "    f_name = get_saved_file_name(wrf_variable_name, soil_m_level=soil_m_level)\n",
        "    # f_name = f'{wrf_variable_name}.daily.canesm5.r1i1p2f1.{year}'\n",
        "    save_cogs(f_name)"
      ],
      "metadata": {
        "colab": {
          "base_uri": "https://localhost:8080/"
        },
        "id": "_Z1pqjrm2575",
        "outputId": "59bde8c5-258d-46d2-948b-5f215aec1060"
      },
      "execution_count": null,
      "outputs": [
        {
          "output_type": "stream",
          "name": "stdout",
          "text": [
            "uploaded historical 2014\n",
            "filename rh.daily.canesm5.r1i1p2f1.2014\n",
            "cog_cmd >> : gdal_translate rh.daily.canesm5.r1i1p2f1.2014.tif rh.daily.canesm5.r1i1p2f1.2014_cog.tif -co TILED=YES -co COPY_SRC_OVERVIEWS=YES -co COMPRESS=LZW\n",
            "result b'Input file size is 270, 340\\n0...10...20...30...40...50...60...70...80...90...100 - done.\\n'\n",
            "uploaded historical 2015\n",
            "filename rh.daily.canesm5.r1i1p2f1.2015\n",
            "cog_cmd >> : gdal_translate rh.daily.canesm5.r1i1p2f1.2015.tif rh.daily.canesm5.r1i1p2f1.2015_cog.tif -co TILED=YES -co COPY_SRC_OVERVIEWS=YES -co COMPRESS=LZW\n",
            "result b'Input file size is 270, 340\\n0...10...20...30...40...50...60...70...80...90...100 - done.\\n'\n",
            "uploaded historical 2016\n",
            "filename rh.daily.canesm5.r1i1p2f1.2016\n",
            "cog_cmd >> : gdal_translate rh.daily.canesm5.r1i1p2f1.2016.tif rh.daily.canesm5.r1i1p2f1.2016_cog.tif -co TILED=YES -co COPY_SRC_OVERVIEWS=YES -co COMPRESS=LZW\n",
            "result b'Input file size is 270, 340\\n0...10...20...30...40...50...60...70...80...90...100 - done.\\n'\n",
            "uploaded historical 2017\n",
            "filename rh.daily.canesm5.r1i1p2f1.2017\n",
            "cog_cmd >> : gdal_translate rh.daily.canesm5.r1i1p2f1.2017.tif rh.daily.canesm5.r1i1p2f1.2017_cog.tif -co TILED=YES -co COPY_SRC_OVERVIEWS=YES -co COMPRESS=LZW\n",
            "result b'Input file size is 270, 340\\n0...10...20...30...40...50...60...70...80...90...100 - done.\\n'\n",
            "uploaded historical 2018\n",
            "filename rh.daily.canesm5.r1i1p2f1.2018\n",
            "cog_cmd >> : gdal_translate rh.daily.canesm5.r1i1p2f1.2018.tif rh.daily.canesm5.r1i1p2f1.2018_cog.tif -co TILED=YES -co COPY_SRC_OVERVIEWS=YES -co COMPRESS=LZW\n",
            "result b'Input file size is 270, 340\\n0...10...20...30...40...50...60...70...80...90...100 - done.\\n'\n",
            "uploaded historical 2019\n",
            "filename rh.daily.canesm5.r1i1p2f1.2019\n",
            "cog_cmd >> : gdal_translate rh.daily.canesm5.r1i1p2f1.2019.tif rh.daily.canesm5.r1i1p2f1.2019_cog.tif -co TILED=YES -co COPY_SRC_OVERVIEWS=YES -co COMPRESS=LZW\n",
            "result b'Input file size is 270, 340\\n0...10...20...30...40...50...60...70...80...90...100 - done.\\n'\n",
            "uploaded historical 2020\n",
            "filename rh.daily.canesm5.r1i1p2f1.2020\n",
            "cog_cmd >> : gdal_translate rh.daily.canesm5.r1i1p2f1.2020.tif rh.daily.canesm5.r1i1p2f1.2020_cog.tif -co TILED=YES -co COPY_SRC_OVERVIEWS=YES -co COMPRESS=LZW\n",
            "result b'Input file size is 270, 340\\n0...10...20...30...40...50...60...70...80...90...100 - done.\\n'\n",
            "uploaded historical 2021\n",
            "filename rh.daily.canesm5.r1i1p2f1.2021\n",
            "cog_cmd >> : gdal_translate rh.daily.canesm5.r1i1p2f1.2021.tif rh.daily.canesm5.r1i1p2f1.2021_cog.tif -co TILED=YES -co COPY_SRC_OVERVIEWS=YES -co COMPRESS=LZW\n",
            "result b'Input file size is 270, 340\\n0...10...20...30...40...50...60...70...80...90...100 - done.\\n'\n",
            "uploaded historical 2022\n",
            "filename rh.daily.canesm5.r1i1p2f1.2022\n",
            "cog_cmd >> : gdal_translate rh.daily.canesm5.r1i1p2f1.2022.tif rh.daily.canesm5.r1i1p2f1.2022_cog.tif -co TILED=YES -co COPY_SRC_OVERVIEWS=YES -co COMPRESS=LZW\n",
            "result b'Input file size is 270, 340\\n0...10...20...30...40...50...60...70...80...90...100 - done.\\n'\n",
            "uploaded historical 2023\n",
            "filename rh.daily.canesm5.r1i1p2f1.2023\n",
            "cog_cmd >> : gdal_translate rh.daily.canesm5.r1i1p2f1.2023.tif rh.daily.canesm5.r1i1p2f1.2023_cog.tif -co TILED=YES -co COPY_SRC_OVERVIEWS=YES -co COMPRESS=LZW\n",
            "result b'Input file size is 270, 340\\n0...10...20...30...40...50...60...70...80...90...100 - done.\\n'\n",
            "uploaded historical 2024\n",
            "filename rh.daily.canesm5.r1i1p2f1.2024\n",
            "cog_cmd >> : gdal_translate rh.daily.canesm5.r1i1p2f1.2024.tif rh.daily.canesm5.r1i1p2f1.2024_cog.tif -co TILED=YES -co COPY_SRC_OVERVIEWS=YES -co COMPRESS=LZW\n",
            "result b'Input file size is 270, 340\\n0...10...20...30...40...50...60...70...80...90...100 - done.\\n'\n",
            "uploaded historical 2025\n",
            "filename rh.daily.canesm5.r1i1p2f1.2025\n",
            "cog_cmd >> : gdal_translate rh.daily.canesm5.r1i1p2f1.2025.tif rh.daily.canesm5.r1i1p2f1.2025_cog.tif -co TILED=YES -co COPY_SRC_OVERVIEWS=YES -co COMPRESS=LZW\n",
            "result b'Input file size is 270, 340\\n0...10...20...30...40...50...60...70...80...90...100 - done.\\n'\n",
            "uploaded historical 2026\n",
            "filename rh.daily.canesm5.r1i1p2f1.2026\n",
            "cog_cmd >> : gdal_translate rh.daily.canesm5.r1i1p2f1.2026.tif rh.daily.canesm5.r1i1p2f1.2026_cog.tif -co TILED=YES -co COPY_SRC_OVERVIEWS=YES -co COMPRESS=LZW\n",
            "result b'Input file size is 270, 340\\n0...10...20...30...40...50...60...70...80...90...100 - done.\\n'\n",
            "uploaded historical 2027\n",
            "filename rh.daily.canesm5.r1i1p2f1.2027\n",
            "cog_cmd >> : gdal_translate rh.daily.canesm5.r1i1p2f1.2027.tif rh.daily.canesm5.r1i1p2f1.2027_cog.tif -co TILED=YES -co COPY_SRC_OVERVIEWS=YES -co COMPRESS=LZW\n",
            "result b'Input file size is 270, 340\\n0...10...20...30...40...50...60...70...80...90...100 - done.\\n'\n",
            "uploaded historical 2028\n",
            "filename rh.daily.canesm5.r1i1p2f1.2028\n",
            "cog_cmd >> : gdal_translate rh.daily.canesm5.r1i1p2f1.2028.tif rh.daily.canesm5.r1i1p2f1.2028_cog.tif -co TILED=YES -co COPY_SRC_OVERVIEWS=YES -co COMPRESS=LZW\n",
            "result b'Input file size is 270, 340\\n0...10...20...30...40...50...60...70...80...90...100 - done.\\n'\n",
            "uploaded historical 2029\n",
            "filename rh.daily.canesm5.r1i1p2f1.2029\n",
            "cog_cmd >> : gdal_translate rh.daily.canesm5.r1i1p2f1.2029.tif rh.daily.canesm5.r1i1p2f1.2029_cog.tif -co TILED=YES -co COPY_SRC_OVERVIEWS=YES -co COMPRESS=LZW\n",
            "result b'Input file size is 270, 340\\n0...10...20...30...40...50...60...70...80...90...100 - done.\\n'\n",
            "uploaded historical 2030\n",
            "filename rh.daily.canesm5.r1i1p2f1.2030\n",
            "cog_cmd >> : gdal_translate rh.daily.canesm5.r1i1p2f1.2030.tif rh.daily.canesm5.r1i1p2f1.2030_cog.tif -co TILED=YES -co COPY_SRC_OVERVIEWS=YES -co COMPRESS=LZW\n",
            "result b'Input file size is 270, 340\\n0...10...20...30...40...50...60...70...80...90...100 - done.\\n'\n"
          ]
        }
      ]
    },
    {
      "cell_type": "markdown",
      "source": [
        "### upload to cloud"
      ],
      "metadata": {
        "id": "sJHf4fNs3Ukm"
      }
    },
    {
      "cell_type": "code",
      "source": [
        "for year in future_years:\n",
        "    print(f'uploaded future {year}')\n",
        "    # f_name = f'{wrf_variable_name}.daily.canesm5.r1i1p2f1.{year}'\n",
        "    f_name = get_saved_file_name(wrf_variable_name, soil_m_level=soil_m_level)\n",
        "    upload_to_gcp(f_name)\n"
      ],
      "metadata": {
        "colab": {
          "base_uri": "https://localhost:8080/"
        },
        "id": "6NjVihj12_CL",
        "outputId": "207c3de9-da22-4b4c-cdbf-514e22ed89d1"
      },
      "execution_count": null,
      "outputs": [
        {
          "output_type": "stream",
          "name": "stdout",
          "text": [
            "uploaded future 2014\n",
            "cp >> : gsutil cp rh.daily.canesm5.r1i1p2f1.2014_cog.tif gs://wrf-rh/rh.daily.canesm5.r1i1p2f1.2014.tif\n",
            "result b''\n",
            "uploaded future 2015\n",
            "cp >> : gsutil cp rh.daily.canesm5.r1i1p2f1.2015_cog.tif gs://wrf-rh/rh.daily.canesm5.r1i1p2f1.2015.tif\n",
            "result b''\n",
            "uploaded future 2016\n",
            "cp >> : gsutil cp rh.daily.canesm5.r1i1p2f1.2016_cog.tif gs://wrf-rh/rh.daily.canesm5.r1i1p2f1.2016.tif\n",
            "result b''\n",
            "uploaded future 2017\n",
            "cp >> : gsutil cp rh.daily.canesm5.r1i1p2f1.2017_cog.tif gs://wrf-rh/rh.daily.canesm5.r1i1p2f1.2017.tif\n",
            "result b''\n",
            "uploaded future 2018\n",
            "cp >> : gsutil cp rh.daily.canesm5.r1i1p2f1.2018_cog.tif gs://wrf-rh/rh.daily.canesm5.r1i1p2f1.2018.tif\n",
            "result b''\n",
            "uploaded future 2019\n",
            "cp >> : gsutil cp rh.daily.canesm5.r1i1p2f1.2019_cog.tif gs://wrf-rh/rh.daily.canesm5.r1i1p2f1.2019.tif\n",
            "result b''\n",
            "uploaded future 2020\n",
            "cp >> : gsutil cp rh.daily.canesm5.r1i1p2f1.2020_cog.tif gs://wrf-rh/rh.daily.canesm5.r1i1p2f1.2020.tif\n",
            "result b''\n",
            "uploaded future 2021\n",
            "cp >> : gsutil cp rh.daily.canesm5.r1i1p2f1.2021_cog.tif gs://wrf-rh/rh.daily.canesm5.r1i1p2f1.2021.tif\n",
            "result b''\n",
            "uploaded future 2022\n",
            "cp >> : gsutil cp rh.daily.canesm5.r1i1p2f1.2022_cog.tif gs://wrf-rh/rh.daily.canesm5.r1i1p2f1.2022.tif\n",
            "result b''\n",
            "uploaded future 2023\n",
            "cp >> : gsutil cp rh.daily.canesm5.r1i1p2f1.2023_cog.tif gs://wrf-rh/rh.daily.canesm5.r1i1p2f1.2023.tif\n",
            "result b''\n",
            "uploaded future 2024\n",
            "cp >> : gsutil cp rh.daily.canesm5.r1i1p2f1.2024_cog.tif gs://wrf-rh/rh.daily.canesm5.r1i1p2f1.2024.tif\n",
            "result b''\n",
            "uploaded future 2025\n",
            "cp >> : gsutil cp rh.daily.canesm5.r1i1p2f1.2025_cog.tif gs://wrf-rh/rh.daily.canesm5.r1i1p2f1.2025.tif\n",
            "result b''\n",
            "uploaded future 2026\n",
            "cp >> : gsutil cp rh.daily.canesm5.r1i1p2f1.2026_cog.tif gs://wrf-rh/rh.daily.canesm5.r1i1p2f1.2026.tif\n",
            "result b''\n",
            "uploaded future 2027\n",
            "cp >> : gsutil cp rh.daily.canesm5.r1i1p2f1.2027_cog.tif gs://wrf-rh/rh.daily.canesm5.r1i1p2f1.2027.tif\n",
            "result b''\n",
            "uploaded future 2028\n",
            "cp >> : gsutil cp rh.daily.canesm5.r1i1p2f1.2028_cog.tif gs://wrf-rh/rh.daily.canesm5.r1i1p2f1.2028.tif\n",
            "result b''\n",
            "uploaded future 2029\n",
            "cp >> : gsutil cp rh.daily.canesm5.r1i1p2f1.2029_cog.tif gs://wrf-rh/rh.daily.canesm5.r1i1p2f1.2029.tif\n",
            "result b''\n",
            "uploaded future 2030\n",
            "cp >> : gsutil cp rh.daily.canesm5.r1i1p2f1.2030_cog.tif gs://wrf-rh/rh.daily.canesm5.r1i1p2f1.2030.tif\n",
            "result b''\n"
          ]
        }
      ]
    },
    {
      "cell_type": "markdown",
      "source": [
        "### upload to ee"
      ],
      "metadata": {
        "id": "_u8DuT2M3eSt"
      }
    },
    {
      "cell_type": "code",
      "source": [
        "for year in future_years:\n",
        "    # f_name = f'{wrf_variable_name}.daily.canesm5.r1i1p2f1.{year}'\n",
        "    f_name = get_saved_file_name(wrf_variable_name, soil_m_level=soil_m_level)\n",
        "    img = ee.Image.loadGeoTIFF(f'gs://{gcp_bucket}/{f_name}')\n",
        "    img = img.set(\n",
        "        'system:time_start', ee.Date(f'{year}-01-01').millis(),\n",
        "        'system:time_end', ee.Date(f'{year}-12-31').millis(),\n",
        "        'soil_m_level', soil_m_level,\n",
        "        'wrf_variable_name', wrf_variable_name,\n",
        "        'year', year,\n",
        "    )\n",
        "    export_image = f'projects/{PROJECT_ID}/assets/{ee_path}/{\"_\".join(f_name.split(\".\"))}'\n",
        "    print(f'uploading to {export_image}')\n",
        "    image_task = ee.batch.Export.image.toAsset(\n",
        "        image=img,\n",
        "        description=f'{f_name}',\n",
        "        assetId=export_image,\n",
        "        region=img.geometry().bounds(),\n",
        "        scale=5000,\n",
        "        maxPixels=1e13,\n",
        "    )\n",
        "\n",
        "    image_task.start()\n"
      ],
      "metadata": {
        "colab": {
          "base_uri": "https://localhost:8080/"
        },
        "id": "jS1nW5Ud3bCP",
        "outputId": "220ac1e4-681f-4bb1-a890-5bd71caa9381"
      },
      "execution_count": null,
      "outputs": [
        {
          "output_type": "stream",
          "name": "stdout",
          "text": [
            "uploading to projects/pyregence-ee/assets/wrf-data/relative-humidity/rh_daily_canesm5_r1i1p2f1_2014_tif\n",
            "uploading to projects/pyregence-ee/assets/wrf-data/relative-humidity/rh_daily_canesm5_r1i1p2f1_2015_tif\n",
            "uploading to projects/pyregence-ee/assets/wrf-data/relative-humidity/rh_daily_canesm5_r1i1p2f1_2016_tif\n",
            "uploading to projects/pyregence-ee/assets/wrf-data/relative-humidity/rh_daily_canesm5_r1i1p2f1_2017_tif\n",
            "uploading to projects/pyregence-ee/assets/wrf-data/relative-humidity/rh_daily_canesm5_r1i1p2f1_2018_tif\n",
            "uploading to projects/pyregence-ee/assets/wrf-data/relative-humidity/rh_daily_canesm5_r1i1p2f1_2019_tif\n",
            "uploading to projects/pyregence-ee/assets/wrf-data/relative-humidity/rh_daily_canesm5_r1i1p2f1_2020_tif\n",
            "uploading to projects/pyregence-ee/assets/wrf-data/relative-humidity/rh_daily_canesm5_r1i1p2f1_2021_tif\n",
            "uploading to projects/pyregence-ee/assets/wrf-data/relative-humidity/rh_daily_canesm5_r1i1p2f1_2022_tif\n",
            "uploading to projects/pyregence-ee/assets/wrf-data/relative-humidity/rh_daily_canesm5_r1i1p2f1_2023_tif\n",
            "uploading to projects/pyregence-ee/assets/wrf-data/relative-humidity/rh_daily_canesm5_r1i1p2f1_2024_tif\n",
            "uploading to projects/pyregence-ee/assets/wrf-data/relative-humidity/rh_daily_canesm5_r1i1p2f1_2025_tif\n",
            "uploading to projects/pyregence-ee/assets/wrf-data/relative-humidity/rh_daily_canesm5_r1i1p2f1_2026_tif\n",
            "uploading to projects/pyregence-ee/assets/wrf-data/relative-humidity/rh_daily_canesm5_r1i1p2f1_2027_tif\n",
            "uploading to projects/pyregence-ee/assets/wrf-data/relative-humidity/rh_daily_canesm5_r1i1p2f1_2028_tif\n",
            "uploading to projects/pyregence-ee/assets/wrf-data/relative-humidity/rh_daily_canesm5_r1i1p2f1_2029_tif\n",
            "uploading to projects/pyregence-ee/assets/wrf-data/relative-humidity/rh_daily_canesm5_r1i1p2f1_2030_tif\n"
          ]
        }
      ]
    },
    {
      "cell_type": "code",
      "source": [],
      "metadata": {
        "id": "W6Czvh593xiF"
      },
      "execution_count": null,
      "outputs": []
    }
  ]
}